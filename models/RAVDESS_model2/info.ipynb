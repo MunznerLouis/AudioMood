{
 "cells": [
  {
   "cell_type": "code",
   "execution_count": null,
   "metadata": {},
   "outputs": [],
   "source": [
    "#load the data\n",
    "import numpy as np\n",
    "\n",
    "# Load the array from the .npy file\n",
    "labels_array = np.load('processing_dataset/labels.npy')\n",
    "print(\"Labels loaded\")\n",
    "# Convert the array back to a list of strings\n",
    "spectrograms = np.load(\"final_dataset/MFCCs.npy\")\n",
    "print(\"Spectrogramms loaded\")\n",
    "\n",
    "dico_classes = {\n",
    "                '01':'Neutral',\n",
    "                '02':'Calm',\n",
    "                '03':'Happy',\n",
    "                '04':'Sad',\n",
    "                '05':'Angry',\n",
    "                '06':'Fearful',\n",
    "                '07':'Disgust'}\n",
    "\n"
   ]
  },
  {
   "cell_type": "code",
   "execution_count": null,
   "metadata": {},
   "outputs": [],
   "source": [
    "#visualisation - label repartition chunked\n",
    "\n",
    "import collections\n",
    "import matplotlib.pyplot as plt\n",
    "total_labels = len(labels_array)\n",
    "\n",
    "label_counts = collections.Counter(list(labels_array))\n",
    "\n",
    "data = []\n",
    "for label, count in label_counts.items():\n",
    "    percentage = (count / total_labels) * 100\n",
    "    data.append([dico_classes[label],  f\"{percentage:.2f}%\",count])\n",
    "\n",
    "headers = [\"Label\", \"Percentage\", \"Count\"]\n",
    "\n",
    "fig, ax = plt.subplots(figsize=(4, 3))\n",
    "ax.axis(\"off\")\n",
    "ax.axis(\"tight\")\n",
    "ax.table(cellText=data, colLabels=headers, loc=\"center\")\n",
    "plt.title(\"label repartition\")\n",
    "plt.tight_layout()\n",
    "plt.show()"
   ]
  },
  {
   "cell_type": "code",
   "execution_count": null,
   "metadata": {},
   "outputs": [],
   "source": [
    "import matplotlib.pyplot as plt\n",
    "import librosa\n",
    "import librosa.display\n",
    "\n",
    "import numpy as np\n",
    "# Load the audio file\n",
    "\"\"\"\n",
    "amplitude_to_db(np.abs(S)) instead.\n",
    "spectrogram = librosa.amplitude_to_db(librosa.stft(audio), ref=np.max)\n",
    "\"\"\"\n",
    "audio_path = r'..\\..\\RAVDESS_dataset\\Audio_Speech_Actors_01-24\\Actor_01\\03-01-01-01-01-01-01.wav'\n",
    "audio, sr = librosa.load(audio_path)\n",
    "\n",
    "# Compute the spectrogram\n",
    "spectrogram = librosa.amplitude_to_db(librosa.stft(audio), ref=np.max)\n",
    "\n",
    "# Plot the spectrogram\n",
    "plt.figure(figsize=(10, 4))\n",
    "librosa.display.specshow(spectrogram, x_axis='time', y_axis='log', cmap='viridis')\n",
    "plt.colorbar(format='%+2.0f dB')\n",
    "plt.title('Spectrogram')\n",
    "plt.xlabel('Time')\n",
    "plt.ylabel('Frequency')\n",
    "plt.tight_layout()\n",
    "plt.show()\n",
    "\n",
    "# Compute MFCCs\n",
    "mfccs = librosa.feature.mfcc(y=audio, sr=sr, n_mfcc=40)\n",
    "\n",
    "# Plot the MFCCs\n",
    "plt.figure(figsize=(10, 4))\n",
    "librosa.display.specshow(mfccs, x_axis='time', cmap='viridis')\n",
    "plt.colorbar(format='%+2.0f dB')\n",
    "plt.title('MFCC')\n",
    "plt.xlabel('Time')\n",
    "plt.ylabel('MFCC Coefficients')\n",
    "plt.tight_layout()\n",
    "plt.show()\n"
   ]
  }
 ],
 "metadata": {
  "kernelspec": {
   "display_name": "Python 3",
   "language": "python",
   "name": "python3"
  },
  "language_info": {
   "codemirror_mode": {
    "name": "ipython",
    "version": 3
   },
   "file_extension": ".py",
   "mimetype": "text/x-python",
   "name": "python",
   "nbconvert_exporter": "python",
   "pygments_lexer": "ipython3",
   "version": "3.10.5"
  },
  "orig_nbformat": 4
 },
 "nbformat": 4,
 "nbformat_minor": 2
}
